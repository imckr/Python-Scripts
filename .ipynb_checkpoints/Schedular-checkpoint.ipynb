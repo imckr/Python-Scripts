{
 "cells": [
  {
   "cell_type": "code",
   "execution_count": 1,
   "id": "82227915-870f-4254-8e1b-2cef39c2cc41",
   "metadata": {},
   "outputs": [
    {
     "name": "stdout",
     "output_type": "stream",
     "text": [
      "Chintu\n"
     ]
    }
   ],
   "source": [
    "name = \"Chintu\"\n",
    "\n",
    "print(name)"
   ]
  },
  {
   "cell_type": "code",
   "execution_count": 20,
   "id": "974207d2-973b-4e1f-8ab8-125b2cb977b6",
   "metadata": {},
   "outputs": [
    {
     "ename": "IndentationError",
     "evalue": "expected an indented block after function definition on line 21 (2968505553.py, line 25)",
     "output_type": "error",
     "traceback": [
      "\u001b[1;36m  Cell \u001b[1;32mIn[20], line 25\u001b[1;36m\u001b[0m\n\u001b[1;33m    main()\u001b[0m\n\u001b[1;37m    ^\u001b[0m\n\u001b[1;31mIndentationError\u001b[0m\u001b[1;31m:\u001b[0m expected an indented block after function definition on line 21\n"
     ]
    }
   ],
   "source": [
    "class MTech :\n",
    "\n",
    "    def __init__(self, name, sub=[]):\n",
    "        self.name = name\n",
    "        self.sub = sub\n",
    "        print(\"Initialized Object\")\n",
    "\n",
    "\"\"\"\n",
    "Total sub = 26\n",
    "Total days a week = 6\n",
    "Total F = 16\n",
    "Total F(MTech) = 13  --- can vary\n",
    "Total F(MCA) = 15  --- can vary\n",
    "Total F(only MTech) = 1 --- can vary\n",
    "Total F(only MCA) = 3 --- can vary\n",
    "\n",
    "Total sem = 4 :\n",
    "    2 sem = 6 sub = 12hr/week\n",
    "    2 sem = 7 sub = 14hr/week\n",
    "\n",
    "----- We need each sem subject info -----\n",
    "\n",
    "Input {\n",
    "    n = 16\n",
    "    m = 5\n",
    "    Faculty[1] - Subjects[1 --- m]\n",
    "    .\n",
    "    .\n",
    "    .\n",
    "    Faculty[n] - Subjects[1 --- m]\n",
    "}\n",
    "\n",
    "if 6 sub a sem {\n",
    "    ex_sub = [a - DCO, b - M2, c - Lab, d - CPP, e - DCC, f - Chemistry]\n",
    "\n",
    "    Batch I : \n",
    "        Mon-Tue = [a, b] = 2hr\n",
    "        Wed-Thu = [c, d, e, a, f] = 6hr\n",
    "        Fri-Sat = [d, b, f, e] = 4hr\n",
    "\n",
    "        Total = 12hrs\n",
    "\n",
    "    Batch II :\n",
    "        Mon-Tue = [a, b, c] = 4hr\n",
    "        Wed-Thu = [d, e, a, f] = 4hr\n",
    "        Fri-Sat = [d, b, f, e] = 4hr\n",
    "\n",
    "        Total = 12hrs\n",
    "}\n",
    "\n",
    "if 7 sub a sem {\n",
    "\n",
    "    ex_sub = [a - CA, b - NAD, c - DBMS, d - SP, e - Python, f - DBLab, g - PythonLab]\n",
    "\n",
    "    Batch I : \n",
    "        Mon-Tue = [g, b, e, c, d] = 6hr\n",
    "        Wed-Thu = [e, a, c, d] = 4hr\n",
    "        Fri-Sat = [b, a, f] = 4hr\n",
    "\n",
    "        Total = 14hrs\n",
    "\n",
    "    Batch II : \n",
    "        Mon-Tue = [b, e, c, d] = 4hr\n",
    "        Wed-Thu = [g, e, a, c, d] = 6hr\n",
    "        Fri-Sat = [f, b, a] = 4hr\n",
    "\n",
    "        Total = 14hrs\n",
    "}\n",
    "\n",
    "\"\"\"\n",
    "\n",
    "\n",
    "\n",
    "\n",
    "def main():\n",
    "    \n",
    "    \n",
    "\n",
    "main()\n",
    "    "
   ]
  }
 ],
 "metadata": {
  "kernelspec": {
   "display_name": "Python 3 (ipykernel)",
   "language": "python",
   "name": "python3"
  },
  "language_info": {
   "codemirror_mode": {
    "name": "ipython",
    "version": 3
   },
   "file_extension": ".py",
   "mimetype": "text/x-python",
   "name": "python",
   "nbconvert_exporter": "python",
   "pygments_lexer": "ipython3",
   "version": "3.12.4"
  }
 },
 "nbformat": 4,
 "nbformat_minor": 5
}
