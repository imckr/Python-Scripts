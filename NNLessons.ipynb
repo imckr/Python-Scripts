{
 "cells": [
  {
   "cell_type": "code",
   "execution_count": null,
   "id": "9a6a9f9f-8e21-4669-8f79-ddb179cb9d92",
   "metadata": {},
   "outputs": [],
   "source": [
    "import math\n",
    "import numpy as np\n",
    "import matplotlib.pyplot as plt\n",
    "%matplotlib inline"
   ]
  },
  {
   "cell_type": "code",
   "execution_count": null,
   "id": "f0395f8f-234a-474a-93b2-16204aaec2f5",
   "metadata": {
    "scrolled": true
   },
   "outputs": [],
   "source": [
    "def f(x):\n",
    "    return 3*x**2+2"
   ]
  },
  {
   "cell_type": "code",
   "execution_count": null,
   "id": "09950a8e-c2db-4197-a1e8-400d44ae7c10",
   "metadata": {},
   "outputs": [
    {
     "data": {
      "text/plain": [
       "50.0"
      ]
     },
     "execution_count": 46,
     "metadata": {},
     "output_type": "execute_result"
    }
   ],
   "source": [
    "f(4.0)"
   ]
  },
  {
   "cell_type": "code",
   "execution_count": null,
   "id": "d50d3d11-8ba5-4a53-91e3-a72120fadf9a",
   "metadata": {},
   "outputs": [
    {
     "name": "stdout",
     "output_type": "stream",
     "text": [
      "[302.   272.75 245.   218.75 194.   170.75 149.   128.75 110.    92.75\n",
      "  77.    62.75  50.    38.75  29.    20.75  14.     8.75   5.     2.75\n",
      "   2.     2.75   5.     8.75  14.    20.75  29.    38.75  50.    62.75\n",
      "  77.    92.75 110.   128.75 149.   170.75 194.   218.75 245.   272.75]\n"
     ]
    },
    {
     "data": {
      "text/plain": [
       "[<matplotlib.lines.Line2D at 0x1fa88c558e0>]"
      ]
     },
     "execution_count": 50,
     "metadata": {},
     "output_type": "execute_result"
    },
    {
     "data": {
      "image/png": "[encoded data removed]",
      "text/plain": [
       "<Figure size 640x480 with 1 Axes>"
      ]
     },
     "metadata": {},
     "output_type": "display_data"
    }
   ],
   "source": [
    "xs = np.arange(-10, 10, 0.5)\n",
    "ys = f(xs)\n",
    "print(ys)\n",
    "\n",
    "plt.plot(xs, ys)"
   ]
  },
  {
   "cell_type": "code",
   "execution_count": null,
   "id": "54fac28c-c328-4b33-ab19-f6b90242fdc5",
   "metadata": {},
   "outputs": [
    {
     "name": "stdout",
     "output_type": "stream",
     "text": [
      "148000001.0\n"
     ]
    }
   ],
   "source": [
    "h = 0.000001\n",
    "#inputs\n",
    "a = 2\n",
    "b = 8\n",
    "c = 9\n",
    "\n",
    "d1 = a+b*c\n",
    "a+= h\n",
    "d2 = a+b*c\n",
    "\n",
    "print((d1 + d2) / h)"
   ]
  },
  {
   "cell_type": "code",
   "execution_count": 15,
   "id": "7aed6130-948d-44cf-b09a-4b12e70a5218",
   "metadata": {
    "scrolled": true
   },
   "outputs": [
    {
     "data": {
      "image/svg+xml": [
       "<?xml version=\"1.0\" encoding=\"UTF-8\" standalone=\"no\"?>\n",
       "<!DOCTYPE svg PUBLIC \"-//W3C//DTD SVG 1.1//EN\"\n",
       " \"http://www.w3.org/Graphics/SVG/1.1/DTD/svg11.dtd\">\n",
       "<!-- Generated by graphviz version 2.50.0 (0)\n",
       " -->\n",
       "<!-- Pages: 1 -->\n",
       "<svg width=\"1157pt\" height=\"156pt\"\n",
       " viewBox=\"0.00 0.00 1157.00 156.00\" xmlns=\"http://www.w3.org/2000/svg\" xmlns:xlink=\"http://www.w3.org/1999/xlink\">\n",
       "<g id=\"graph0\" class=\"graph\" transform=\"scale(1 1) rotate(0) translate(4 152)\">\n",
       "<polygon fill=\"white\" stroke=\"transparent\" points=\"-4,4 -4,-152 1153,-152 1153,4 -4,4\"/>\n",
       "<!-- 1919602991728 -->\n",
       "<g id=\"node1\" class=\"node\">\n",
       "<title>1919602991728</title>\n",
       "<polygon fill=\"none\" stroke=\"black\" points=\"957,-27.5 957,-63.5 1149,-63.5 1149,-27.5 957,-27.5\"/>\n",
       "<text text-anchor=\"middle\" x=\"969.5\" y=\"-41.8\" font-family=\"Times New Roman,serif\" font-size=\"14.00\">L</text>\n",
       "<polyline fill=\"none\" stroke=\"black\" points=\"982,-27.5 982,-63.5 \"/>\n",
       "<text text-anchor=\"middle\" x=\"1024.5\" y=\"-41.8\" font-family=\"Times New Roman,serif\" font-size=\"14.00\">data &#45;8.0000</text>\n",
       "<polyline fill=\"none\" stroke=\"black\" points=\"1067,-27.5 1067,-63.5 \"/>\n",
       "<text text-anchor=\"middle\" x=\"1108\" y=\"-41.8\" font-family=\"Times New Roman,serif\" font-size=\"14.00\">grad 1.0000</text>\n",
       "</g>\n",
       "<!-- 1919602991728* -->\n",
       "<g id=\"node2\" class=\"node\">\n",
       "<title>1919602991728*</title>\n",
       "<ellipse fill=\"none\" stroke=\"black\" cx=\"894\" cy=\"-45.5\" rx=\"27\" ry=\"18\"/>\n",
       "<text text-anchor=\"middle\" x=\"894\" y=\"-41.8\" font-family=\"Times New Roman,serif\" font-size=\"14.00\">*</text>\n",
       "</g>\n",
       "<!-- 1919602991728*&#45;&gt;1919602991728 -->\n",
       "<g id=\"edge1\" class=\"edge\">\n",
       "<title>1919602991728*&#45;&gt;1919602991728</title>\n",
       "<path fill=\"none\" stroke=\"black\" d=\"M921.28,-45.5C928.78,-45.5 937.44,-45.5 946.67,-45.5\"/>\n",
       "<polygon fill=\"black\" stroke=\"black\" points=\"946.87,-49 956.87,-45.5 946.87,-42 946.87,-49\"/>\n",
       "</g>\n",
       "<!-- 1919601516208 -->\n",
       "<g id=\"node3\" class=\"node\">\n",
       "<title>1919601516208</title>\n",
       "<polygon fill=\"none\" stroke=\"black\" points=\"0,-111.5 0,-147.5 194,-147.5 194,-111.5 0,-111.5\"/>\n",
       "<text text-anchor=\"middle\" x=\"11.5\" y=\"-125.8\" font-family=\"Times New Roman,serif\" font-size=\"14.00\">b</text>\n",
       "<polyline fill=\"none\" stroke=\"black\" points=\"23,-111.5 23,-147.5 \"/>\n",
       "<text text-anchor=\"middle\" x=\"65.5\" y=\"-125.8\" font-family=\"Times New Roman,serif\" font-size=\"14.00\">data &#45;3.0000</text>\n",
       "<polyline fill=\"none\" stroke=\"black\" points=\"108,-111.5 108,-147.5 \"/>\n",
       "<text text-anchor=\"middle\" x=\"151\" y=\"-125.8\" font-family=\"Times New Roman,serif\" font-size=\"14.00\">grad &#45;4.0000</text>\n",
       "</g>\n",
       "<!-- 1919602990480* -->\n",
       "<g id=\"node8\" class=\"node\">\n",
       "<title>1919602990480*</title>\n",
       "<ellipse fill=\"none\" stroke=\"black\" cx=\"257\" cy=\"-101.5\" rx=\"27\" ry=\"18\"/>\n",
       "<text text-anchor=\"middle\" x=\"257\" y=\"-97.8\" font-family=\"Times New Roman,serif\" font-size=\"14.00\">*</text>\n",
       "</g>\n",
       "<!-- 1919601516208&#45;&gt;1919602990480* -->\n",
       "<g id=\"edge7\" class=\"edge\">\n",
       "<title>1919601516208&#45;&gt;1919602990480*</title>\n",
       "<path fill=\"none\" stroke=\"black\" d=\"M194.01,-112.49C203.35,-110.83 212.37,-109.23 220.49,-107.79\"/>\n",
       "<polygon fill=\"black\" stroke=\"black\" points=\"221.37,-111.19 230.6,-106 220.15,-104.3 221.37,-111.19\"/>\n",
       "</g>\n",
       "<!-- 1919602991392 -->\n",
       "<g id=\"node4\" class=\"node\">\n",
       "<title>1919602991392</title>\n",
       "<polygon fill=\"none\" stroke=\"black\" points=\"642,-55.5 642,-91.5 831,-91.5 831,-55.5 642,-55.5\"/>\n",
       "<text text-anchor=\"middle\" x=\"653.5\" y=\"-69.8\" font-family=\"Times New Roman,serif\" font-size=\"14.00\">d</text>\n",
       "<polyline fill=\"none\" stroke=\"black\" points=\"665,-55.5 665,-91.5 \"/>\n",
       "<text text-anchor=\"middle\" x=\"705\" y=\"-69.8\" font-family=\"Times New Roman,serif\" font-size=\"14.00\">data 4.0000</text>\n",
       "<polyline fill=\"none\" stroke=\"black\" points=\"745,-55.5 745,-91.5 \"/>\n",
       "<text text-anchor=\"middle\" x=\"788\" y=\"-69.8\" font-family=\"Times New Roman,serif\" font-size=\"14.00\">grad &#45;2.0000</text>\n",
       "</g>\n",
       "<!-- 1919602991392&#45;&gt;1919602991728* -->\n",
       "<g id=\"edge4\" class=\"edge\">\n",
       "<title>1919602991392&#45;&gt;1919602991728*</title>\n",
       "<path fill=\"none\" stroke=\"black\" d=\"M831.1,-56.65C840.4,-54.97 849.38,-53.35 857.49,-51.89\"/>\n",
       "<polygon fill=\"black\" stroke=\"black\" points=\"858.37,-55.29 867.59,-50.07 857.13,-48.4 858.37,-55.29\"/>\n",
       "</g>\n",
       "<!-- 1919602991392+ -->\n",
       "<g id=\"node5\" class=\"node\">\n",
       "<title>1919602991392+</title>\n",
       "<ellipse fill=\"none\" stroke=\"black\" cx=\"579\" cy=\"-73.5\" rx=\"27\" ry=\"18\"/>\n",
       "<text text-anchor=\"middle\" x=\"579\" y=\"-69.8\" font-family=\"Times New Roman,serif\" font-size=\"14.00\">+</text>\n",
       "</g>\n",
       "<!-- 1919602991392+&#45;&gt;1919602991392 -->\n",
       "<g id=\"edge2\" class=\"edge\">\n",
       "<title>1919602991392+&#45;&gt;1919602991392</title>\n",
       "<path fill=\"none\" stroke=\"black\" d=\"M606.03,-73.5C613.66,-73.5 622.52,-73.5 631.94,-73.5\"/>\n",
       "<polygon fill=\"black\" stroke=\"black\" points=\"631.94,-77 641.94,-73.5 631.94,-70 631.94,-77\"/>\n",
       "</g>\n",
       "<!-- 1919565943616 -->\n",
       "<g id=\"node6\" class=\"node\">\n",
       "<title>1919565943616</title>\n",
       "<polygon fill=\"none\" stroke=\"black\" points=\"4.5,-56.5 4.5,-92.5 189.5,-92.5 189.5,-56.5 4.5,-56.5\"/>\n",
       "<text text-anchor=\"middle\" x=\"16\" y=\"-70.8\" font-family=\"Times New Roman,serif\" font-size=\"14.00\">a</text>\n",
       "<polyline fill=\"none\" stroke=\"black\" points=\"27.5,-56.5 27.5,-92.5 \"/>\n",
       "<text text-anchor=\"middle\" x=\"67.5\" y=\"-70.8\" font-family=\"Times New Roman,serif\" font-size=\"14.00\">data 2.0000</text>\n",
       "<polyline fill=\"none\" stroke=\"black\" points=\"107.5,-56.5 107.5,-92.5 \"/>\n",
       "<text text-anchor=\"middle\" x=\"148.5\" y=\"-70.8\" font-family=\"Times New Roman,serif\" font-size=\"14.00\">grad 6.0000</text>\n",
       "</g>\n",
       "<!-- 1919565943616&#45;&gt;1919602990480* -->\n",
       "<g id=\"edge6\" class=\"edge\">\n",
       "<title>1919565943616&#45;&gt;1919602990480*</title>\n",
       "<path fill=\"none\" stroke=\"black\" d=\"M189.91,-90.21C200.76,-92.06 211.28,-93.86 220.61,-95.45\"/>\n",
       "<polygon fill=\"black\" stroke=\"black\" points=\"220.16,-98.93 230.6,-97.16 221.34,-92.03 220.16,-98.93\"/>\n",
       "</g>\n",
       "<!-- 1919602990480 -->\n",
       "<g id=\"node7\" class=\"node\">\n",
       "<title>1919602990480</title>\n",
       "<polygon fill=\"none\" stroke=\"black\" points=\"321,-83.5 321,-119.5 515,-119.5 515,-83.5 321,-83.5\"/>\n",
       "<text text-anchor=\"middle\" x=\"332.5\" y=\"-97.8\" font-family=\"Times New Roman,serif\" font-size=\"14.00\">e</text>\n",
       "<polyline fill=\"none\" stroke=\"black\" points=\"344,-83.5 344,-119.5 \"/>\n",
       "<text text-anchor=\"middle\" x=\"386.5\" y=\"-97.8\" font-family=\"Times New Roman,serif\" font-size=\"14.00\">data &#45;6.0000</text>\n",
       "<polyline fill=\"none\" stroke=\"black\" points=\"429,-83.5 429,-119.5 \"/>\n",
       "<text text-anchor=\"middle\" x=\"472\" y=\"-97.8\" font-family=\"Times New Roman,serif\" font-size=\"14.00\">grad &#45;2.0000</text>\n",
       "</g>\n",
       "<!-- 1919602990480&#45;&gt;1919602991392+ -->\n",
       "<g id=\"edge9\" class=\"edge\">\n",
       "<title>1919602990480&#45;&gt;1919602991392+</title>\n",
       "<path fill=\"none\" stroke=\"black\" d=\"M515.16,-84.57C524.82,-82.87 534.13,-81.23 542.49,-79.75\"/>\n",
       "<polygon fill=\"black\" stroke=\"black\" points=\"543.3,-83.17 552.54,-77.98 542.08,-76.27 543.3,-83.17\"/>\n",
       "</g>\n",
       "<!-- 1919602990480*&#45;&gt;1919602990480 -->\n",
       "<g id=\"edge3\" class=\"edge\">\n",
       "<title>1919602990480*&#45;&gt;1919602990480</title>\n",
       "<path fill=\"none\" stroke=\"black\" d=\"M284.26,-101.5C292.05,-101.5 301.1,-101.5 310.75,-101.5\"/>\n",
       "<polygon fill=\"black\" stroke=\"black\" points=\"310.99,-105 320.99,-101.5 310.99,-98 310.99,-105\"/>\n",
       "</g>\n",
       "<!-- 1919602224560 -->\n",
       "<g id=\"node9\" class=\"node\">\n",
       "<title>1919602224560</title>\n",
       "<polygon fill=\"none\" stroke=\"black\" points=\"320,-28.5 320,-64.5 516,-64.5 516,-28.5 320,-28.5\"/>\n",
       "<text text-anchor=\"middle\" x=\"331.5\" y=\"-42.8\" font-family=\"Times New Roman,serif\" font-size=\"14.00\">c</text>\n",
       "<polyline fill=\"none\" stroke=\"black\" points=\"343,-28.5 343,-64.5 \"/>\n",
       "<text text-anchor=\"middle\" x=\"386.5\" y=\"-42.8\" font-family=\"Times New Roman,serif\" font-size=\"14.00\">data 10.0000</text>\n",
       "<polyline fill=\"none\" stroke=\"black\" points=\"430,-28.5 430,-64.5 \"/>\n",
       "<text text-anchor=\"middle\" x=\"473\" y=\"-42.8\" font-family=\"Times New Roman,serif\" font-size=\"14.00\">grad &#45;2.0000</text>\n",
       "</g>\n",
       "<!-- 1919602224560&#45;&gt;1919602991392+ -->\n",
       "<g id=\"edge8\" class=\"edge\">\n",
       "<title>1919602224560&#45;&gt;1919602991392+</title>\n",
       "<path fill=\"none\" stroke=\"black\" d=\"M516.07,-62.98C525.42,-64.57 534.43,-66.1 542.55,-67.48\"/>\n",
       "<polygon fill=\"black\" stroke=\"black\" points=\"542.21,-70.97 552.65,-69.2 543.38,-64.07 542.21,-70.97\"/>\n",
       "</g>\n",
       "<!-- 1919602991584 -->\n",
       "<g id=\"node10\" class=\"node\">\n",
       "<title>1919602991584</title>\n",
       "<polygon fill=\"none\" stroke=\"black\" points=\"642.5,-0.5 642.5,-36.5 830.5,-36.5 830.5,-0.5 642.5,-0.5\"/>\n",
       "<text text-anchor=\"middle\" x=\"653\" y=\"-14.8\" font-family=\"Times New Roman,serif\" font-size=\"14.00\">f</text>\n",
       "<polyline fill=\"none\" stroke=\"black\" points=\"663.5,-0.5 663.5,-36.5 \"/>\n",
       "<text text-anchor=\"middle\" x=\"706\" y=\"-14.8\" font-family=\"Times New Roman,serif\" font-size=\"14.00\">data &#45;2.0000</text>\n",
       "<polyline fill=\"none\" stroke=\"black\" points=\"748.5,-0.5 748.5,-36.5 \"/>\n",
       "<text text-anchor=\"middle\" x=\"789.5\" y=\"-14.8\" font-family=\"Times New Roman,serif\" font-size=\"14.00\">grad 4.0000</text>\n",
       "</g>\n",
       "<!-- 1919602991584&#45;&gt;1919602991728* -->\n",
       "<g id=\"edge5\" class=\"edge\">\n",
       "<title>1919602991584&#45;&gt;1919602991728*</title>\n",
       "<path fill=\"none\" stroke=\"black\" d=\"M830.65,-34.67C840.2,-36.33 849.43,-37.93 857.72,-39.37\"/>\n",
       "<polygon fill=\"black\" stroke=\"black\" points=\"857.24,-42.84 867.69,-41.11 858.44,-35.95 857.24,-42.84\"/>\n",
       "</g>\n",
       "</g>\n",
       "</svg>\n"
      ],
      "text/plain": [
       "<graphviz.graphs.Digraph at 0x1beee233d40>"
      ]
     },
     "execution_count": 15,
     "metadata": {},
     "output_type": "execute_result"
    }
   ],
   "source": [
    "class Value :\n",
    "    def __init__(self, data, _children=(), _op='', label=''):\n",
    "        self.data = data\n",
    "        self.grad = 0.0\n",
    "        self._backward = lambda: None\n",
    "        self._prev = set(_children)\n",
    "        self._op= _op\n",
    "        self.label = label\n",
    "\n",
    "    def __repr__(self):\n",
    "        return f\"Value(data={self.data}) (grad={self.grad})\"\n",
    "\n",
    "    def __add__(self, other):\n",
    "        out = Value(self.data + other.data, (self, other), '+')\n",
    "\n",
    "        def _backward(): \n",
    "            self.grad += 1.0 * out.grad\n",
    "            other.grad += 1.0 * out.grad\n",
    "        out._backward = _backward\n",
    "\n",
    "        return out\n",
    "\n",
    "    def __mul__(self, other):\n",
    "        out = Value(self.data * other.data, (self, other), '*')\n",
    "\n",
    "        def _backward():\n",
    "            self.grad = other.data * out.grad\n",
    "            other.grad = self.data * out.grad\n",
    "        out._backward = _backward\n",
    "\n",
    "        return out\n",
    "\n",
    "    def tanh(self):\n",
    "        x = self.data\n",
    "        t = (math.exp(2*x) - 1)/ (math.exp(2*x) + 1)\n",
    "        out = Value(t, (self, ), 'tanh')\n",
    "\n",
    "        def _backward():\n",
    "            self.grad += ( 1 - t**2) * out.grad\n",
    "        out._backward = _backward\n",
    "\n",
    "        return out\n",
    "\n",
    "    def backward(self):\n",
    "        topo = []\n",
    "        visited = set()\n",
    "        def build_topo(v):\n",
    "            if v not in visited:\n",
    "                visited.add(v)\n",
    "                for child in v._prev:\n",
    "                    build_topo(child)\n",
    "                topo.append(v)\n",
    "        build_topo(self)\n",
    "\n",
    "        self.grad = 1.0\n",
    "        for node in reversed(topo):\n",
    "            node._backward()\n",
    "\n",
    "a = Value(2.0, label='a')\n",
    "b = Value(-3.0, label='b')\n",
    "c = Value(10.0, label='c')\n",
    "e = a*b; e.label = 'e'\n",
    "d = e + c ; d.label = 'd'\n",
    "f = Value(-2.0, label='f')\n",
    "L = d*f; L.label='L'\n",
    "L.backward()\n",
    "e\n",
    "draw_dot(L)"
   ]
  },
  {
   "cell_type": "code",
   "execution_count": 11,
   "id": "a3282644-59c5-49f9-8f19-634c43b60979",
   "metadata": {},
   "outputs": [],
   "source": [
    "from graphviz import Digraph\n",
    "\n",
    "def trace(root):\n",
    "  # builds a set of all nodes and edges in a graph\n",
    "  nodes, edges = set(), set()\n",
    "  def build(v):\n",
    "    if v not in nodes:\n",
    "      nodes.add(v)\n",
    "      for child in v._prev:\n",
    "        edges.add((child, v))\n",
    "        build(child)\n",
    "  build(root)\n",
    "  return nodes, edges\n",
    "\n",
    "def draw_dot(root):\n",
    "  dot = Digraph(format='svg', graph_attr={'rankdir': 'LR'}) # LR = left to right\n",
    "  \n",
    "  nodes, edges = trace(root)\n",
    "  for n in nodes:\n",
    "    uid = str(id(n))\n",
    "    # for any value in the graph, create a rectangular ('record') node for it\n",
    "    dot.node(name = uid, label = \"{ %s | data %.4f | grad %.4f }\" % (n.label, n.data, n.grad), shape='record')\n",
    "    if n._op:\n",
    "      # if this value is a result of some operation, create an op node for it\n",
    "      dot.node(name = uid + n._op, label = n._op)\n",
    "      # and connect this node to it\n",
    "      dot.edge(uid + n._op, uid)\n",
    "\n",
    "  for n1, n2 in edges:\n",
    "    # connect n1 to the op node of n2\n",
    "    dot.edge(str(id(n1)), str(id(n2)) + n2._op)\n",
    "\n",
    "  return dot"
   ]
  },
  {
   "cell_type": "code",
   "execution_count": 13,
   "id": "3d19b6bd-58b9-4be5-b559-96b94faa54d1",
   "metadata": {},
   "outputs": [
    {
     "ename": "NameError",
     "evalue": "name 'L' is not defined",
     "output_type": "error",
     "traceback": [
      "\u001b[1;31m---------------------------------------------------------------------------\u001b[0m",
      "\u001b[1;31mNameError\u001b[0m                                 Traceback (most recent call last)",
      "Cell \u001b[1;32mIn[13], line 1\u001b[0m\n\u001b[1;32m----> 1\u001b[0m draw_dot(L)\n",
      "\u001b[1;31mNameError\u001b[0m: name 'L' is not defined"
     ]
    }
   ],
   "source": [
    "draw_dot(L)"
   ]
  },
  {
   "cell_type": "code",
   "execution_count": null,
   "id": "20c723f0-caa3-404d-b3a1-20720a201137",
   "metadata": {},
   "outputs": [],
   "source": []
  }
 ],
 "metadata": {
  "kernelspec": {
   "display_name": "Python 3 (ipykernel)",
   "language": "python",
   "name": "python3"
  },
  "language_info": {
   "codemirror_mode": {
    "name": "ipython",
    "version": 3
   },
   "file_extension": ".py",
   "mimetype": "text/x-python",
   "name": "python",
   "nbconvert_exporter": "python",
   "pygments_lexer": "ipython3",
   "version": "3.12.4"
  }
 },
 "nbformat": 4,
 "nbformat_minor": 5
}
